{
 "cells": [
  {
   "cell_type": "markdown",
   "id": "9ba7366e",
   "metadata": {},
   "source": [
    "# Diabetes classification"
   ]
  },
  {
   "cell_type": "code",
   "execution_count": 1,
   "id": "9dab0b0b",
   "metadata": {},
   "outputs": [],
   "source": [
    "import numpy as np\n",
    "import pandas as pd"
   ]
  },
  {
   "cell_type": "code",
   "execution_count": 2,
   "id": "8e62fc39",
   "metadata": {},
   "outputs": [
    {
     "data": {
      "text/html": [
       "<div>\n",
       "<style scoped>\n",
       "    .dataframe tbody tr th:only-of-type {\n",
       "        vertical-align: middle;\n",
       "    }\n",
       "\n",
       "    .dataframe tbody tr th {\n",
       "        vertical-align: top;\n",
       "    }\n",
       "\n",
       "    .dataframe thead th {\n",
       "        text-align: right;\n",
       "    }\n",
       "</style>\n",
       "<table border=\"1\" class=\"dataframe\">\n",
       "  <thead>\n",
       "    <tr style=\"text-align: right;\">\n",
       "      <th></th>\n",
       "      <th>Age</th>\n",
       "      <th>Gender</th>\n",
       "      <th>Family_Diabetes</th>\n",
       "      <th>PhysicalActivity</th>\n",
       "      <th>BMI</th>\n",
       "      <th>Smoking</th>\n",
       "      <th>Alcohol</th>\n",
       "      <th>Sleep</th>\n",
       "      <th>RegularMedicine</th>\n",
       "      <th>JunkFood</th>\n",
       "      <th>Stress</th>\n",
       "      <th>BPLevel</th>\n",
       "      <th>Pregnancies</th>\n",
       "      <th>UrinationFreq</th>\n",
       "      <th>Diabetic</th>\n",
       "    </tr>\n",
       "  </thead>\n",
       "  <tbody>\n",
       "    <tr>\n",
       "      <th>0</th>\n",
       "      <td>50-59</td>\n",
       "      <td>Male</td>\n",
       "      <td>no</td>\n",
       "      <td>&gt; 60 min</td>\n",
       "      <td>39.0</td>\n",
       "      <td>no</td>\n",
       "      <td>no</td>\n",
       "      <td>8</td>\n",
       "      <td>no</td>\n",
       "      <td>occasionally</td>\n",
       "      <td>sometimes</td>\n",
       "      <td>high</td>\n",
       "      <td>0.0</td>\n",
       "      <td>not much</td>\n",
       "      <td>no</td>\n",
       "    </tr>\n",
       "    <tr>\n",
       "      <th>1</th>\n",
       "      <td>50-59</td>\n",
       "      <td>Male</td>\n",
       "      <td>no</td>\n",
       "      <td>&lt; 30 min</td>\n",
       "      <td>28.0</td>\n",
       "      <td>no</td>\n",
       "      <td>no</td>\n",
       "      <td>8</td>\n",
       "      <td>yes</td>\n",
       "      <td>very often</td>\n",
       "      <td>sometimes</td>\n",
       "      <td>normal</td>\n",
       "      <td>0.0</td>\n",
       "      <td>not much</td>\n",
       "      <td>no</td>\n",
       "    </tr>\n",
       "    <tr>\n",
       "      <th>2</th>\n",
       "      <td>40-49</td>\n",
       "      <td>Male</td>\n",
       "      <td>no</td>\n",
       "      <td>&gt; 60 min</td>\n",
       "      <td>24.0</td>\n",
       "      <td>no</td>\n",
       "      <td>no</td>\n",
       "      <td>6</td>\n",
       "      <td>no</td>\n",
       "      <td>occasionally</td>\n",
       "      <td>sometimes</td>\n",
       "      <td>normal</td>\n",
       "      <td>0.0</td>\n",
       "      <td>not much</td>\n",
       "      <td>no</td>\n",
       "    </tr>\n",
       "    <tr>\n",
       "      <th>3</th>\n",
       "      <td>50-59</td>\n",
       "      <td>Male</td>\n",
       "      <td>no</td>\n",
       "      <td>&gt; 60 min</td>\n",
       "      <td>23.0</td>\n",
       "      <td>no</td>\n",
       "      <td>no</td>\n",
       "      <td>8</td>\n",
       "      <td>no</td>\n",
       "      <td>occasionally</td>\n",
       "      <td>sometimes</td>\n",
       "      <td>normal</td>\n",
       "      <td>0.0</td>\n",
       "      <td>not much</td>\n",
       "      <td>no</td>\n",
       "    </tr>\n",
       "    <tr>\n",
       "      <th>4</th>\n",
       "      <td>40-49</td>\n",
       "      <td>Male</td>\n",
       "      <td>no</td>\n",
       "      <td>&lt; 30 min</td>\n",
       "      <td>27.0</td>\n",
       "      <td>no</td>\n",
       "      <td>no</td>\n",
       "      <td>8</td>\n",
       "      <td>no</td>\n",
       "      <td>occasionally</td>\n",
       "      <td>sometimes</td>\n",
       "      <td>normal</td>\n",
       "      <td>0.0</td>\n",
       "      <td>not much</td>\n",
       "      <td>no</td>\n",
       "    </tr>\n",
       "  </tbody>\n",
       "</table>\n",
       "</div>"
      ],
      "text/plain": [
       "     Age Gender Family_Diabetes PhysicalActivity   BMI Smoking Alcohol  Sleep  \\\n",
       "0  50-59   Male              no         > 60 min  39.0      no      no      8   \n",
       "1  50-59   Male              no         < 30 min  28.0      no      no      8   \n",
       "2  40-49   Male              no         > 60 min  24.0      no      no      6   \n",
       "3  50-59   Male              no         > 60 min  23.0      no      no      8   \n",
       "4  40-49   Male              no         < 30 min  27.0      no      no      8   \n",
       "\n",
       "  RegularMedicine      JunkFood     Stress BPLevel  Pregnancies UrinationFreq  \\\n",
       "0              no  occasionally  sometimes    high          0.0      not much   \n",
       "1             yes    very often  sometimes  normal          0.0      not much   \n",
       "2              no  occasionally  sometimes  normal          0.0      not much   \n",
       "3              no  occasionally  sometimes  normal          0.0      not much   \n",
       "4              no  occasionally  sometimes  normal          0.0      not much   \n",
       "\n",
       "  Diabetic  \n",
       "0       no  \n",
       "1       no  \n",
       "2       no  \n",
       "3       no  \n",
       "4       no  "
      ]
     },
     "execution_count": 2,
     "metadata": {},
     "output_type": "execute_result"
    }
   ],
   "source": [
    "data = pd.read_csv('Diabetes_dataset.csv')\n",
    "data.head()"
   ]
  },
  {
   "cell_type": "markdown",
   "id": "3668b76e",
   "metadata": {},
   "source": [
    "### Imputing missing values"
   ]
  },
  {
   "cell_type": "code",
   "execution_count": 3,
   "id": "3ac4e3ce",
   "metadata": {
    "scrolled": true
   },
   "outputs": [
    {
     "data": {
      "text/plain": [
       "BMI             4\n",
       "Pregnancies    42\n",
       "dtype: int64"
      ]
     },
     "execution_count": 3,
     "metadata": {},
     "output_type": "execute_result"
    }
   ],
   "source": [
    "missing = data.isna().sum()\n",
    "missing[missing > 0]"
   ]
  },
  {
   "cell_type": "code",
   "execution_count": 4,
   "id": "8154dc2e",
   "metadata": {},
   "outputs": [],
   "source": [
    "BMImean = round(data.BMI.mean())"
   ]
  },
  {
   "cell_type": "code",
   "execution_count": 5,
   "id": "cf90f456",
   "metadata": {},
   "outputs": [],
   "source": [
    "data.BMI.fillna(BMImean,inplace=True)\n",
    "data.Pregnancies.fillna(0,inplace=True)"
   ]
  },
  {
   "cell_type": "markdown",
   "id": "63db3e37",
   "metadata": {},
   "source": [
    "### Identify inputs and targets"
   ]
  },
  {
   "cell_type": "code",
   "execution_count": 6,
   "id": "0d78f842",
   "metadata": {},
   "outputs": [],
   "source": [
    "input_cols = data.columns[:-1]\n",
    "target_col = 'Diabetic'"
   ]
  },
  {
   "cell_type": "code",
   "execution_count": 7,
   "id": "f732174e",
   "metadata": {},
   "outputs": [],
   "source": [
    "numeric_cols = data.select_dtypes(include=['int64', 'float64']).columns.tolist()\n",
    "categorical_cols = data.select_dtypes('object').columns.tolist()"
   ]
  },
  {
   "cell_type": "markdown",
   "id": "44cb34e6",
   "metadata": {},
   "source": [
    "### Encoding categorical data"
   ]
  },
  {
   "cell_type": "code",
   "execution_count": 8,
   "id": "726ba6aa",
   "metadata": {},
   "outputs": [
    {
     "name": "stdout",
     "output_type": "stream",
     "text": [
      "{'Age': {'40-49': 0, '50-59': 1, '60 or older': 2, 'less than 40': 3}, 'Gender': {'Female': 0, 'Male': 1}, 'Family_Diabetes': {'no': 0, 'yes': 1}, 'PhysicalActivity': {'30-60 min': 0, '< 30 min': 1, '> 60 min': 2, 'none': 3}, 'Smoking': {'no': 0, 'yes': 1}, 'Alcohol': {'no': 0, 'yes': 1}, 'RegularMedicine': {'no': 0, 'yes': 1}, 'JunkFood': {'occasionally': 0, 'often': 1, 'very often': 2}, 'Stress': {'not at all': 0, 'sometimes': 1, 'very often': 2}, 'BPLevel': {'high': 0, 'low': 1, 'normal': 2}, 'UrinationFreq': {'not much': 0, 'quite often': 1}, 'Diabetic': {'no': 0, 'yes': 1}}\n"
     ]
    }
   ],
   "source": [
    "from sklearn.preprocessing import LabelEncoder\n",
    "\n",
    "le = LabelEncoder()\n",
    "\n",
    "map_dict ={}\n",
    "for col in categorical_cols:\n",
    "    data[col] = le.fit_transform(data[col])\n",
    " \n",
    "    name_mapping = dict(zip(le.classes_,\n",
    "                        le.transform(le.classes_)))\n",
    " \n",
    "    map_dict[col]= name_mapping\n",
    "print(map_dict)"
   ]
  },
  {
   "cell_type": "markdown",
   "id": "40a8fa7b",
   "metadata": {},
   "source": [
    "### Building the model"
   ]
  },
  {
   "cell_type": "code",
   "execution_count": 9,
   "id": "f86e12d2",
   "metadata": {},
   "outputs": [],
   "source": [
    "from sklearn.model_selection import train_test_split\n",
    "from sklearn.tree import DecisionTreeClassifier\n",
    "from sklearn.linear_model import LogisticRegression\n",
    "from sklearn.neighbors import KNeighborsClassifier\n",
    "from sklearn.metrics import accuracy_score, classification_report"
   ]
  },
  {
   "cell_type": "code",
   "execution_count": 10,
   "id": "ffe3366f",
   "metadata": {},
   "outputs": [],
   "source": [
    "X = data[input_cols]\n",
    "y = data[target_col]\n",
    "X_train, X_test, y_train, y_test = train_test_split(X, y, test_size=0.2, random_state=21)"
   ]
  },
  {
   "cell_type": "code",
   "execution_count": 11,
   "id": "a2a710eb",
   "metadata": {
    "scrolled": true
   },
   "outputs": [
    {
     "name": "stdout",
     "output_type": "stream",
     "text": [
      "              precision    recall  f1-score   support\n",
      "\n",
      "           0       0.96      0.98      0.97       136\n",
      "           1       0.94      0.91      0.93        55\n",
      "\n",
      "    accuracy                           0.96       191\n",
      "   macro avg       0.95      0.94      0.95       191\n",
      "weighted avg       0.96      0.96      0.96       191\n",
      "\n",
      "Accuracy:  0.9581151832460733\n"
     ]
    }
   ],
   "source": [
    "model = DecisionTreeClassifier()\n",
    "model.fit(X_train, y_train)\n",
    "predictions = model.predict(X_test)\n",
    "\n",
    "print(classification_report(y_test, predictions))\n",
    "print('Accuracy: ', accuracy_score(y_test, predictions))"
   ]
  },
  {
   "cell_type": "markdown",
   "id": "fda6028d",
   "metadata": {},
   "source": [
    "### Pickle the model"
   ]
  },
  {
   "cell_type": "code",
   "execution_count": 12,
   "id": "4486e221",
   "metadata": {},
   "outputs": [
    {
     "name": "stdout",
     "output_type": "stream",
     "text": [
      "[0]\n"
     ]
    }
   ],
   "source": [
    "import pickle\n",
    "model_filename = 'diabetes-model.pkl'\n",
    "pickle.dump(model, open(model_filename,'wb'))\n",
    "\n",
    "model = pickle.load(open('diabetes-model.pkl','rb'))\n",
    "print(model.predict([[3,1,0,0,32,0,0,9,0,0,0,2,0,0]]))"
   ]
  },
  {
   "cell_type": "code",
   "execution_count": null,
   "id": "5cf4ee38",
   "metadata": {},
   "outputs": [],
   "source": []
  }
 ],
 "metadata": {
  "kernelspec": {
   "display_name": "Python 3",
   "language": "python",
   "name": "python3"
  },
  "language_info": {
   "codemirror_mode": {
    "name": "ipython",
    "version": 3
   },
   "file_extension": ".py",
   "mimetype": "text/x-python",
   "name": "python",
   "nbconvert_exporter": "python",
   "pygments_lexer": "ipython3",
   "version": "3.8.8"
  }
 },
 "nbformat": 4,
 "nbformat_minor": 5
}
